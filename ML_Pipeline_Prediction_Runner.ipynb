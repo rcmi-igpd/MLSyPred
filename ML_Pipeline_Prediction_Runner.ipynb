{
 "cells": [
  {
   "cell_type": "markdown",
   "metadata": {},
   "source": [
    "# MLSyPred ML Prediction Runner PIPELINE"
   ]
  },
  {
   "cell_type": "markdown",
   "metadata": {},
   "source": [
    "\n",
    "\n",
    "The output file of the best performing model per Plasmodium falciparum strain will be selected as the input for this Machine Learning Prediction Runner PIPELINE\n",
    "\n",
    "1. Select libraries\n",
    "2. Upload model file name specific for the STRAIN (the output file from MLSyPred ML Models Antimalarials PIPELINE V 0.9.6)\n",
    "3. Run a csv with the names of the new compounds along with their SMILES through the MLSyPred-COMBINATION PIPELINE\n",
    "4. The output csv of the MLSyPred-COMBINATION PIPELINE of the new compounds will be data input of this PIPELINE\n",
    "5. Predictions will be calculated\n",
    "6. Then predicted data will be saved into a new CSV"
   ]
  },
  {
   "cell_type": "code",
   "execution_count": 4,
   "metadata": {},
   "outputs": [],
   "source": [
    "import pandas as pd\n",
    "import pickle\n",
    "import sklearn as sklearn\n",
    "import time\n",
    "import os\n",
    "\n",
    "saved_model_filename = \"Saved_Models/Malaria/ALL_SET_ML_Morgan2048_DD2_UPDATED_Logistic Regression.sav\"\n",
    "\n",
    "saved_model = pickle.load(open(saved_model_filename, 'rb'))\n",
    "variables = pickle.load(open(saved_model_filename.replace(\".sav\",\".variables\"), 'rb'))\n",
    "\n",
    "data_filename = \"MorganAve2048_Antimalarials.csv\"\n",
    "data = pd.read_csv(\"Files_to_run/\"+data_filename)\n",
    "data_names = data.iloc[:,0]\n",
    "data = data[variables]\n",
    "\n",
    "prediction = saved_model.predict(data)\n",
    "prediction = pd.DataFrame(prediction)\n",
    "prediction = prediction.T.iloc[0]\n",
    "prediction\n",
    "\n",
    "data_predict = pd.DataFrame()\n",
    "data_predict[\"Compounds\"] = data_names\n",
    "data_predict[\"Predictions\"] = prediction\n",
    "\n",
    "data_predict.to_csv(\"Predictions/\"+data_filename.replace(\".csv\",\"_predictions_\"+time.strftime(\"%Y%m%d%H%M\")+\".csv\"),index=False)\n"
   ]
  }
 ],
 "metadata": {
  "kernelspec": {
   "display_name": "Python 3 (ipykernel)",
   "language": "python",
   "name": "python3"
  },
  "language_info": {
   "codemirror_mode": {
    "name": "ipython",
    "version": 3
   },
   "file_extension": ".py",
   "mimetype": "text/x-python",
   "name": "python",
   "nbconvert_exporter": "python",
   "pygments_lexer": "ipython3",
   "version": "3.7.6"
  }
 },
 "nbformat": 4,
 "nbformat_minor": 4
}
